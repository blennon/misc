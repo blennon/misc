{
 "metadata": {
  "name": "",
  "signature": "sha256:f091e9307ccb806dda70f32ff6d39362f9c549ee3f29cd8f61bc6a3f81e3d82d"
 },
 "nbformat": 3,
 "nbformat_minor": 0,
 "worksheets": [
  {
   "cells": [
    {
     "cell_type": "code",
     "collapsed": false,
     "input": [
      "from random import shuffle\n",
      "from numpy import argmin"
     ],
     "language": "python",
     "metadata": {},
     "outputs": [],
     "prompt_number": 6
    },
    {
     "cell_type": "code",
     "collapsed": false,
     "input": [
      "items = range(20)\n",
      "shuffle(items)\n",
      "print(items)"
     ],
     "language": "python",
     "metadata": {},
     "outputs": [
      {
       "output_type": "stream",
       "stream": "stdout",
       "text": [
        "[16, 8, 3, 13, 10, 2, 4, 5, 15, 1, 19, 0, 18, 17, 11, 9, 6, 7, 14, 12]\n"
       ]
      }
     ],
     "prompt_number": 85
    },
    {
     "cell_type": "markdown",
     "metadata": {},
     "source": [
      "<h2>Selection Sort</h2>"
     ]
    },
    {
     "cell_type": "code",
     "collapsed": false,
     "input": [
      "def selection_sort(items):\n",
      "    for i in range(len(items)-1):\n",
      "        min_index = argmin(items[i:]) + i\n",
      "        items[i], items[min_index] = items[min_index], items[i]\n",
      "    return items"
     ],
     "language": "python",
     "metadata": {},
     "outputs": [],
     "prompt_number": 15
    },
    {
     "cell_type": "code",
     "collapsed": false,
     "input": [
      "shuffle(items)\n",
      "selection_sort(items)"
     ],
     "language": "python",
     "metadata": {},
     "outputs": [
      {
       "metadata": {},
       "output_type": "pyout",
       "prompt_number": 81,
       "text": [
        "[0, 1, 2, 3, 4, 5, 6, 7, 8, 9, 10, 11, 12, 13, 14, 15, 16, 17, 18, 19]"
       ]
      }
     ],
     "prompt_number": 81
    },
    {
     "cell_type": "markdown",
     "metadata": {},
     "source": [
      "<h2>Bubble Sort</h2>"
     ]
    },
    {
     "cell_type": "code",
     "collapsed": false,
     "input": [
      "def bubble_sort(items):\n",
      "    n = len(items)\n",
      "    for j in range(n-2):\n",
      "        swap = False\n",
      "        for i in range(n-j-1):\n",
      "            if items[i] > items[i+1]:\n",
      "                items[i], items[i+1] = items[i+1], items[i]\n",
      "                swap = True\n",
      "        if not swap:\n",
      "            return items\n",
      "    return items"
     ],
     "language": "python",
     "metadata": {},
     "outputs": [],
     "prompt_number": 38
    },
    {
     "cell_type": "code",
     "collapsed": false,
     "input": [
      "shuffle(items)\n",
      "bubble_sort(items)"
     ],
     "language": "python",
     "metadata": {},
     "outputs": [
      {
       "metadata": {},
       "output_type": "pyout",
       "prompt_number": 80,
       "text": [
        "[0, 1, 2, 3, 4, 5, 6, 7, 8, 9, 10, 11, 12, 13, 14, 15, 16, 17, 18, 19]"
       ]
      }
     ],
     "prompt_number": 80
    },
    {
     "cell_type": "markdown",
     "metadata": {},
     "source": [
      "<h2>Insertion Sort</h2>"
     ]
    },
    {
     "cell_type": "code",
     "collapsed": false,
     "input": [
      "def insertion_sort(items):\n",
      "    \n",
      "    # find the first item in the unsorted subset\n",
      "    for unsorted_idx in range(1,len(items)):\n",
      "        # copy value to insert in sorted order\n",
      "        unsorted_value = items[unsorted_idx]\n",
      "        \n",
      "        # shift all items with larger value to the right one place\n",
      "        j = 1\n",
      "        while (unsorted_value < items[unsorted_idx-j]) & (unsorted_idx-j>=0):\n",
      "            items[unsorted_idx-j+1] = items[unsorted_idx-j]\n",
      "            j += 1\n",
      "        \n",
      "        # copy the value to the \"hole\" in the array\n",
      "        items[unsorted_idx-j+1]=unsorted_value\n",
      "    return items"
     ],
     "language": "python",
     "metadata": {},
     "outputs": [],
     "prompt_number": 55
    },
    {
     "cell_type": "code",
     "collapsed": false,
     "input": [
      "shuffle(items)\n",
      "insertion_sort(items)"
     ],
     "language": "python",
     "metadata": {},
     "outputs": [
      {
       "metadata": {},
       "output_type": "pyout",
       "prompt_number": 79,
       "text": [
        "[0, 1, 2, 3, 4, 5, 6, 7, 8, 9, 10, 11, 12, 13, 14, 15, 16, 17, 18, 19]"
       ]
      }
     ],
     "prompt_number": 79
    },
    {
     "cell_type": "markdown",
     "metadata": {},
     "source": [
      "<h2>Merge Sort</h2>"
     ]
    },
    {
     "cell_type": "code",
     "collapsed": false,
     "input": [
      "def merge(left_array, right_array, merged_array):\n",
      "    \"\"\"\n",
      "    left_array and right_array are sorted arrays. merged_array is the\n",
      "    size of both arrays combined\n",
      "    \"\"\"\n",
      "    iL,iR = 0,0\n",
      "    nL,nR = len(left_array), len(right_array)\n",
      "    for iM in range(len(merged_array)):\n",
      "        if (iL<nL) & (iR<nR):\n",
      "            if left_array[iL] <= right_array[iR]:\n",
      "                merged_array[iM] = left_array[iL]\n",
      "                iL += 1\n",
      "            else:\n",
      "                merged_array[iM] = right_array[iR]\n",
      "                iR += 1\n",
      "        elif iL==nL:\n",
      "            merged_array[iM] = right_array[iR]\n",
      "            iR += 1\n",
      "        elif iR==nR:\n",
      "            merged_array[iM] = left_array[iL]\n",
      "            iL += 1\n",
      "    return merged_array\n",
      "    \n",
      "def merge_sort(items):\n",
      "    n = len(items)\n",
      "    if n < 2:\n",
      "        return items\n",
      "    m = int(n/2)\n",
      "    left, right = merge_sort(items[:m]), merge_sort(items[m:])\n",
      "    return merge(left, right, items)"
     ],
     "language": "python",
     "metadata": {},
     "outputs": [],
     "prompt_number": 73
    },
    {
     "cell_type": "code",
     "collapsed": false,
     "input": [
      "shuffle(items)\n",
      "merge_sort(items)"
     ],
     "language": "python",
     "metadata": {},
     "outputs": [
      {
       "metadata": {},
       "output_type": "pyout",
       "prompt_number": 86,
       "text": [
        "[0, 1, 2, 3, 4, 5, 6, 7, 8, 9, 10, 11, 12, 13, 14, 15, 16, 17, 18, 19]"
       ]
      }
     ],
     "prompt_number": 86
    },
    {
     "cell_type": "code",
     "collapsed": false,
     "input": [],
     "language": "python",
     "metadata": {},
     "outputs": []
    }
   ],
   "metadata": {}
  }
 ]
}