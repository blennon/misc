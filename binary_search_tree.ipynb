{
 "metadata": {
  "name": "",
  "signature": "sha256:d132330e09f61642427ab3b94396bfbc3546a12b00a7834784174e79100d567d"
 },
 "nbformat": 3,
 "nbformat_minor": 0,
 "worksheets": [
  {
   "cells": [
    {
     "cell_type": "markdown",
     "metadata": {},
     "source": [
      "<h1>Binary Search Tree -- Basic Implementation</h1>"
     ]
    },
    {
     "cell_type": "code",
     "collapsed": false,
     "input": [
      "class Node:\n",
      "    def __init__(self, data=None, left_node=None, right_node=None):\n",
      "        self.data = data\n",
      "        self.left_node = left_node\n",
      "        self.right_node = right_node\n",
      "        \n",
      "    def get_left_node(self):\n",
      "        return self.left_node\n",
      "    \n",
      "    def get_right_node(self):\n",
      "        return self.right_node\n",
      "    \n",
      "    def set_left_node(self, node):\n",
      "        self.left_node = node\n",
      "        \n",
      "    def set_right_node(self, node):\n",
      "        self.right_node = node\n",
      "        \n",
      "    def get_data(self):\n",
      "        return self.data\n",
      "    \n",
      "    def set_data(self, data):\n",
      "        self.data = data\n",
      "        \n",
      "def search(root, data):\n",
      "    if data is None:\n",
      "        return False\n",
      "    elif data == root.get_data():\n",
      "        return True\n",
      "    elif data < root.get_data():\n",
      "        if root.get_left_node() is  None:\n",
      "            return False\n",
      "        return search(root.get_left_node(), data)\n",
      "    else:\n",
      "        if root.get_right_node() is None:\n",
      "            return False\n",
      "        return search(root.get_right_node(), data)\n",
      "    \n",
      "def insert(root, data):\n",
      "    if data is None:\n",
      "        return\n",
      "    elif root.get_data() is None:\n",
      "        root.set_data(data)\n",
      "    elif data < root.get_data():\n",
      "        if root.get_left_node() is None:\n",
      "            root.set_left_node(Node())\n",
      "        insert(root.get_left_node(), data)\n",
      "    elif data > root.get_data():\n",
      "        if root.get_right_node() is None:\n",
      "            root.set_right_node(Node())\n",
      "        insert(root.get_right_node(), data)\n",
      "\n",
      "def remove(root, data):\n",
      "    raise NotImplementedError()"
     ],
     "language": "python",
     "metadata": {},
     "outputs": [],
     "prompt_number": 3
    },
    {
     "cell_type": "code",
     "collapsed": false,
     "input": [
      "root = Node()\n",
      "insert(root, 20)\n",
      "insert(root, 15)\n",
      "insert(root, 16)\n",
      "insert(root, 14)\n",
      "insert(root,21)\n",
      "\n",
      "assert root.get_data() == 20\n",
      "assert root.get_left_node().get_data() == 15\n",
      "assert root.get_left_node().get_right_node().get_data() == 16\n",
      "assert root.get_left_node().get_left_node().get_data() == 14\n",
      "\n",
      "assert search(root, 14) == True\n",
      "assert search(root, 15) == True\n",
      "assert search(root, 13) == False"
     ],
     "language": "python",
     "metadata": {},
     "outputs": [],
     "prompt_number": 4
    },
    {
     "cell_type": "code",
     "collapsed": false,
     "input": [],
     "language": "python",
     "metadata": {},
     "outputs": []
    }
   ],
   "metadata": {}
  }
 ]
}